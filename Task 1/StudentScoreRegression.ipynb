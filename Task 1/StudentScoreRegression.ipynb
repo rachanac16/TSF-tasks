{
 "cells": [
  {
   "cell_type": "markdown",
   "metadata": {},
   "source": [
    "# Task 1 - Student Score Percentage Prediction\n",
    "In this regression task we will predict the percentage of marks that a student is expected to score based upon the number of hours they studied. This is a simple linear regression task as it involves just two variables.\n",
    "\n",
    "## Import statements \n",
    "We will use the in build sci - kit linear regression model to predict the target variable."
   ]
  },
  {
   "cell_type": "code",
   "execution_count": 80,
   "metadata": {},
   "outputs": [],
   "source": [
    "import matplotlib.pyplot as plt\n",
    "import numpy as np\n",
    "import pandas as pd\n",
    "from sklearn.linear_model import LinearRegression\n",
    "from sklearn.model_selection import train_test_split"
   ]
  },
  {
   "cell_type": "markdown",
   "metadata": {},
   "source": [
    "## Loading Dataset"
   ]
  },
  {
   "cell_type": "code",
   "execution_count": 175,
   "metadata": {},
   "outputs": [
    {
     "data": {
      "text/html": [
       "<div>\n",
       "<style scoped>\n",
       "    .dataframe tbody tr th:only-of-type {\n",
       "        vertical-align: middle;\n",
       "    }\n",
       "\n",
       "    .dataframe tbody tr th {\n",
       "        vertical-align: top;\n",
       "    }\n",
       "\n",
       "    .dataframe thead th {\n",
       "        text-align: right;\n",
       "    }\n",
       "</style>\n",
       "<table border=\"1\" class=\"dataframe\">\n",
       "  <thead>\n",
       "    <tr style=\"text-align: right;\">\n",
       "      <th></th>\n",
       "      <th>Hours</th>\n",
       "      <th>Scores</th>\n",
       "    </tr>\n",
       "  </thead>\n",
       "  <tbody>\n",
       "    <tr>\n",
       "      <th>0</th>\n",
       "      <td>2.5</td>\n",
       "      <td>21</td>\n",
       "    </tr>\n",
       "    <tr>\n",
       "      <th>1</th>\n",
       "      <td>5.1</td>\n",
       "      <td>47</td>\n",
       "    </tr>\n",
       "    <tr>\n",
       "      <th>2</th>\n",
       "      <td>3.2</td>\n",
       "      <td>27</td>\n",
       "    </tr>\n",
       "    <tr>\n",
       "      <th>3</th>\n",
       "      <td>8.5</td>\n",
       "      <td>75</td>\n",
       "    </tr>\n",
       "    <tr>\n",
       "      <th>4</th>\n",
       "      <td>3.5</td>\n",
       "      <td>30</td>\n",
       "    </tr>\n",
       "  </tbody>\n",
       "</table>\n",
       "</div>"
      ],
      "text/plain": [
       "   Hours  Scores\n",
       "0    2.5      21\n",
       "1    5.1      47\n",
       "2    3.2      27\n",
       "3    8.5      75\n",
       "4    3.5      30"
      ]
     },
     "execution_count": 175,
     "metadata": {},
     "output_type": "execute_result"
    }
   ],
   "source": [
    "url = \"http://bit.ly/w-data\"\n",
    "dataset = pd.read_csv(url)\n",
    "dataset.head(5)"
   ]
  },
  {
   "cell_type": "markdown",
   "metadata": {},
   "source": [
    "## Slicing data and splitting data"
   ]
  },
  {
   "cell_type": "code",
   "execution_count": 127,
   "metadata": {},
   "outputs": [],
   "source": [
    "X = dataset.iloc[:, :-1].values\n",
    "y = dataset.iloc[:, 1].values"
   ]
  },
  {
   "cell_type": "code",
   "execution_count": 156,
   "metadata": {},
   "outputs": [],
   "source": [
    "X_train, X_test, y_train, y_test = train_test_split(X, y, test_size = 0.3, random_state = 0)"
   ]
  },
  {
   "cell_type": "markdown",
   "metadata": {},
   "source": [
    "## Data Visualizing "
   ]
  },
  {
   "cell_type": "code",
   "execution_count": 157,
   "metadata": {},
   "outputs": [
    {
     "data": {
      "image/png": "[encoded data removed]",
      "text/plain": [
       "<Figure size 432x288 with 1 Axes>"
      ]
     },
     "metadata": {
      "needs_background": "light"
     },
     "output_type": "display_data"
    }
   ],
   "source": [
    "plt.scatter(X_train, y_train)\n",
    "plt.title(\"y_train vs X_train\")\n",
    "plt.xlabel(\"X_train (Hours)\")\n",
    "plt.ylabel(\"y_train(Scores)\")\n",
    "plt.show()"
   ]
  },
  {
   "cell_type": "markdown",
   "metadata": {},
   "source": [
    "## Models\n",
    "We will now do trial and error with two types of models \n",
    "- Linear Regression\n",
    "- Polynomial Regression"
   ]
  },
  {
   "cell_type": "markdown",
   "metadata": {},
   "source": [
    "### Linear Regression Model"
   ]
  },
  {
   "cell_type": "code",
   "execution_count": 158,
   "metadata": {},
   "outputs": [],
   "source": [
    "linear_regressor = LinearRegression()\n",
    "linear_regressor.fit(X_train, y_train)\n",
    "y_linear_pred = linear_regressor.predict(X_test)"
   ]
  },
  {
   "cell_type": "markdown",
   "metadata": {},
   "source": [
    "#### Visualising Results"
   ]
  },
  {
   "cell_type": "code",
   "execution_count": 159,
   "metadata": {},
   "outputs": [
    {
     "data": {
      "image/png": "[encoded data removed]",
      "text/plain": [
       "<Figure size 432x288 with 1 Axes>"
      ]
     },
     "metadata": {
      "needs_background": "light"
     },
     "output_type": "display_data"
    }
   ],
   "source": [
    "plt.scatter(X_train, y_train, color='red')\n",
    "plt.plot(X_train, linear_regressor.predict(X_train), color='blue')\n",
    "plt.title('Scores vs Hours ( Training data ) ')\n",
    "plt.xlabel('Hours')\n",
    "plt.ylabel('Scores')\n",
    "plt.show()"
   ]
  },
  {
   "cell_type": "code",
   "execution_count": 160,
   "metadata": {},
   "outputs": [
    {
     "data": {
      "image/png": "[encoded data removed]",
      "text/plain": [
       "<Figure size 432x288 with 1 Axes>"
      ]
     },
     "metadata": {
      "needs_background": "light"
     },
     "output_type": "display_data"
    }
   ],
   "source": [
    "plt.scatter(X_test, y_test, color='red')\n",
    "plt.plot(X_test, linear_regressor.predict(X_test), color='blue')\n",
    "plt.title('Scores vs Hours ( Test data ) ')\n",
    "plt.xlabel('Hours')\n",
    "plt.ylabel('Scores')\n",
    "plt.show()"
   ]
  },
  {
   "cell_type": "markdown",
   "metadata": {},
   "source": [
    "#### Evaluating Performance"
   ]
  },
  {
   "cell_type": "code",
   "execution_count": 161,
   "metadata": {},
   "outputs": [
    {
     "data": {
      "text/html": [
       "<div>\n",
       "<style scoped>\n",
       "    .dataframe tbody tr th:only-of-type {\n",
       "        vertical-align: middle;\n",
       "    }\n",
       "\n",
       "    .dataframe tbody tr th {\n",
       "        vertical-align: top;\n",
       "    }\n",
       "\n",
       "    .dataframe thead th {\n",
       "        text-align: right;\n",
       "    }\n",
       "</style>\n",
       "<table border=\"1\" class=\"dataframe\">\n",
       "  <thead>\n",
       "    <tr style=\"text-align: right;\">\n",
       "      <th></th>\n",
       "      <th>Actual</th>\n",
       "      <th>Predicted</th>\n",
       "    </tr>\n",
       "  </thead>\n",
       "  <tbody>\n",
       "    <tr>\n",
       "      <th>0</th>\n",
       "      <td>20</td>\n",
       "      <td>17.053665</td>\n",
       "    </tr>\n",
       "    <tr>\n",
       "      <th>1</th>\n",
       "      <td>27</td>\n",
       "      <td>33.694229</td>\n",
       "    </tr>\n",
       "    <tr>\n",
       "      <th>2</th>\n",
       "      <td>69</td>\n",
       "      <td>74.806209</td>\n",
       "    </tr>\n",
       "    <tr>\n",
       "      <th>3</th>\n",
       "      <td>30</td>\n",
       "      <td>26.842232</td>\n",
       "    </tr>\n",
       "    <tr>\n",
       "      <th>4</th>\n",
       "      <td>62</td>\n",
       "      <td>60.123359</td>\n",
       "    </tr>\n",
       "    <tr>\n",
       "      <th>5</th>\n",
       "      <td>35</td>\n",
       "      <td>39.567369</td>\n",
       "    </tr>\n",
       "    <tr>\n",
       "      <th>6</th>\n",
       "      <td>24</td>\n",
       "      <td>20.969092</td>\n",
       "    </tr>\n",
       "    <tr>\n",
       "      <th>7</th>\n",
       "      <td>86</td>\n",
       "      <td>78.721636</td>\n",
       "    </tr>\n",
       "  </tbody>\n",
       "</table>\n",
       "</div>"
      ],
      "text/plain": [
       "   Actual  Predicted\n",
       "0      20  17.053665\n",
       "1      27  33.694229\n",
       "2      69  74.806209\n",
       "3      30  26.842232\n",
       "4      62  60.123359\n",
       "5      35  39.567369\n",
       "6      24  20.969092\n",
       "7      86  78.721636"
      ]
     },
     "execution_count": 161,
     "metadata": {},
     "output_type": "execute_result"
    }
   ],
   "source": [
    "df = pd.DataFrame({'Actual': y_test, 'Predicted': y_linear_pred})  \n",
    "df "
   ]
  },
  {
   "cell_type": "code",
   "execution_count": 162,
   "metadata": {},
   "outputs": [
    {
     "name": "stdout",
     "output_type": "stream",
     "text": [
      "4.419727808027652\n",
      "22.96509721270043\n"
     ]
    }
   ],
   "source": [
    "from sklearn import metrics\n",
    "\n",
    "print(metrics.mean_absolute_error(y_test, y_linear_pred))\n",
    "print(metrics.mean_squared_error(y_test, y_linear_pred))\n"
   ]
  },
  {
   "cell_type": "markdown",
   "metadata": {},
   "source": [
    "#### Prediction for 9.25 hours"
   ]
  },
  {
   "cell_type": "code",
   "execution_count": 176,
   "metadata": {},
   "outputs": [
    {
     "data": {
      "text/plain": [
       "92.91505723477056"
      ]
     },
     "execution_count": 176,
     "metadata": {},
     "output_type": "execute_result"
    }
   ],
   "source": [
    "pred_result = linear_regressor.predict([[9.25]])\n",
    "pred_result[0]"
   ]
  },
  {
   "cell_type": "markdown",
   "metadata": {},
   "source": [
    "### Polynomial Regression Model"
   ]
  },
  {
   "cell_type": "code",
   "execution_count": 163,
   "metadata": {},
   "outputs": [
    {
     "data": {
      "text/plain": [
       "PolynomialFeatures(degree=4)"
      ]
     },
     "execution_count": 163,
     "metadata": {},
     "output_type": "execute_result"
    }
   ],
   "source": [
    "from sklearn.preprocessing import PolynomialFeatures\n",
    "\n",
    "poly_features = PolynomialFeatures(degree = 4)\n",
    "X_poly_train = poly_features.fit_transform(X_train)\n",
    "poly_features.fit(X_poly_train, y_train)"
   ]
  },
  {
   "cell_type": "code",
   "execution_count": 164,
   "metadata": {},
   "outputs": [
    {
     "data": {
      "text/plain": [
       "array([[1.0000000e+00, 6.9000000e+00, 4.7610000e+01, 3.2850900e+02,\n",
       "        2.2667121e+03],\n",
       "       [1.0000000e+00, 1.1000000e+00, 1.2100000e+00, 1.3310000e+00,\n",
       "        1.4641000e+00],\n",
       "       [1.0000000e+00, 5.1000000e+00, 2.6010000e+01, 1.3265100e+02,\n",
       "        6.7652010e+02],\n",
       "       [1.0000000e+00, 7.7000000e+00, 5.9290000e+01, 4.5653300e+02,\n",
       "        3.5153041e+03],\n",
       "       [1.0000000e+00, 3.3000000e+00, 1.0890000e+01, 3.5937000e+01,\n",
       "        1.1859210e+02],\n",
       "       [1.0000000e+00, 8.3000000e+00, 6.8890000e+01, 5.7178700e+02,\n",
       "        4.7458321e+03],\n",
       "       [1.0000000e+00, 9.2000000e+00, 8.4640000e+01, 7.7868800e+02,\n",
       "        7.1639296e+03],\n",
       "       [1.0000000e+00, 6.1000000e+00, 3.7210000e+01, 2.2698100e+02,\n",
       "        1.3845841e+03],\n",
       "       [1.0000000e+00, 3.5000000e+00, 1.2250000e+01, 4.2875000e+01,\n",
       "        1.5006250e+02],\n",
       "       [1.0000000e+00, 2.7000000e+00, 7.2900000e+00, 1.9683000e+01,\n",
       "        5.3144100e+01],\n",
       "       [1.0000000e+00, 5.5000000e+00, 3.0250000e+01, 1.6637500e+02,\n",
       "        9.1506250e+02],\n",
       "       [1.0000000e+00, 2.7000000e+00, 7.2900000e+00, 1.9683000e+01,\n",
       "        5.3144100e+01],\n",
       "       [1.0000000e+00, 8.5000000e+00, 7.2250000e+01, 6.1412500e+02,\n",
       "        5.2200625e+03],\n",
       "       [1.0000000e+00, 2.5000000e+00, 6.2500000e+00, 1.5625000e+01,\n",
       "        3.9062500e+01],\n",
       "       [1.0000000e+00, 4.8000000e+00, 2.3040000e+01, 1.1059200e+02,\n",
       "        5.3084160e+02],\n",
       "       [1.0000000e+00, 8.9000000e+00, 7.9210000e+01, 7.0496900e+02,\n",
       "        6.2742241e+03],\n",
       "       [1.0000000e+00, 4.5000000e+00, 2.0250000e+01, 9.1125000e+01,\n",
       "        4.1006250e+02]])"
      ]
     },
     "execution_count": 164,
     "metadata": {},
     "output_type": "execute_result"
    }
   ],
   "source": [
    "X_poly_train"
   ]
  },
  {
   "cell_type": "code",
   "execution_count": 165,
   "metadata": {},
   "outputs": [],
   "source": [
    "polynomial_regressor = LinearRegression()\n",
    "polynomial_regressor.fit(X_poly_train, y_train)\n",
    "y_polynomial_two_pred = polynomial_regressor.predict(poly_features.fit_transform(X_test))"
   ]
  },
  {
   "cell_type": "markdown",
   "metadata": {},
   "source": [
    "#### Visualising Results"
   ]
  },
  {
   "cell_type": "code",
   "execution_count": 166,
   "metadata": {},
   "outputs": [
    {
     "data": {
      "image/png": "[encoded data removed]",
      "text/plain": [
       "<Figure size 432x288 with 1 Axes>"
      ]
     },
     "metadata": {
      "needs_background": "light"
     },
     "output_type": "display_data"
    }
   ],
   "source": [
    "X_train, y_train = zip(*sorted(zip(X_train, y_train)))\n",
    "plt.scatter(X_train, y_train, color = 'red')\n",
    "plt.plot(X_train, polynomial_regressor.predict(poly_features.fit_transform(X_train)), color = 'blue')\n",
    "plt.title('Scores or Hours (Polynomial Regression)')\n",
    "plt.xlabel('Hours')\n",
    "plt.ylabel('Scores')\n",
    "plt.show()"
   ]
  },
  {
   "cell_type": "code",
   "execution_count": 167,
   "metadata": {},
   "outputs": [
    {
     "data": {
      "image/png": "[encoded data removed]",
      "text/plain": [
       "<Figure size 432x288 with 1 Axes>"
      ]
     },
     "metadata": {
      "needs_background": "light"
     },
     "output_type": "display_data"
    }
   ],
   "source": [
    "X_test, y_test = zip(*sorted(zip(X_test, y_test)))\n",
    "plt.scatter(X_test, y_test, color = 'red')\n",
    "plt.plot(X_test, polynomial_regressor.predict(poly_features.fit_transform(X_test)), color = 'blue')\n",
    "plt.title('Scores or Hours (Polynomial Regression)')\n",
    "plt.xlabel('Hours')\n",
    "plt.ylabel('Scores')\n",
    "plt.show()"
   ]
  },
  {
   "cell_type": "markdown",
   "metadata": {},
   "source": [
    "#### Evaulating Performance"
   ]
  },
  {
   "cell_type": "code",
   "execution_count": 168,
   "metadata": {},
   "outputs": [
    {
     "name": "stdout",
     "output_type": "stream",
     "text": [
      "20.614956777356774\n",
      "762.3204202590955\n"
     ]
    }
   ],
   "source": [
    "print(metrics.mean_absolute_error(y_test, y_polynomial_two_pred))\n",
    "print(metrics.mean_squared_error(y_test, y_polynomial_two_pred))"
   ]
  },
  {
   "cell_type": "markdown",
   "metadata": {},
   "source": [
    "#### Predicting for 9.25 hours"
   ]
  },
  {
   "cell_type": "code",
   "execution_count": 177,
   "metadata": {},
   "outputs": [
    {
     "data": {
      "text/plain": [
       "88.51157084995353"
      ]
     },
     "execution_count": 177,
     "metadata": {},
     "output_type": "execute_result"
    }
   ],
   "source": [
    "pred_result = polynomial_regressor.predict(poly_features.fit_transform([[9.25]]))\n",
    "pred_result[0]"
   ]
  },
  {
   "cell_type": "markdown",
   "metadata": {},
   "source": [
    "#### Function to find out the best degree of model"
   ]
  },
  {
   "cell_type": "code",
   "execution_count": 141,
   "metadata": {},
   "outputs": [],
   "source": [
    "def polynomial_model(degrees = 2):\n",
    "    from sklearn.preprocessing import PolynomialFeatures\n",
    "    poly_features = PolynomialFeatures(degree = degrees)\n",
    "    X_poly_train = poly_features.fit_transform(X_train)\n",
    "    poly_features.fit(X_poly_train, y_train)\n",
    "    polynomial_regressor = LinearRegression()\n",
    "    polynomial_regressor.fit(X_poly_train, y_train)\n",
    "    print(polynomial_regressor.coef_)\n",
    "    print(polynomial_regressor.intercept_)\n",
    "    y_polynomial_two_pred = polynomial_regressor.predict(poly_features.fit_transform(X_test))\n",
    "#     graph_of_training_data(X_train, y_train)\n",
    "#     graph_of_test_data(X_test, y_test)\n",
    "    return y_polynomial_two_pred\n",
    "\n",
    "def graph_of_training_data(X_train, y_train):\n",
    "    plt.scatter(X_train, y_train, color = 'red')\n",
    "    plt.plot(X_train, polynomial_regressor.predict(poly_features.fit_transform(X_train)), color = 'blue')\n",
    "    plt.title('Scores or Hours (Polynomial Regression)')\n",
    "    plt.xlabel('Hours')\n",
    "    plt.ylabel('Scores')\n",
    "    plt.show()\n",
    "    \n",
    "def graph_of_test_data(X_test, y_test):\n",
    "    plt.scatter(X_test, y_test, color = 'red')\n",
    "    plt.plot(X_test, polynomial_regressor.predict(poly_features.fit_transform(X_test)), color = 'blue')\n",
    "    plt.title('Scores or Hours (Polynomial Regression)')\n",
    "    plt.xlabel('Hours')\n",
    "    plt.ylabel('Scores')\n",
    "    plt.show()\n",
    "\n",
    "def print_evaluation(y_model_pred):\n",
    "    print(metrics.mean_absolute_error(y_test, y_model_pred))\n",
    "    print(metrics.mean_squared_error(y_test, y_model_pred))\n",
    "    \n",
    "def get_evaluation_MAE(y_model_pred):\n",
    "    return metrics.mean_absolute_error(y_test, y_model_pred)\n",
    "def get_evaluation_MSE(y_model_pred):\n",
    "    return metrics.mean_squared_error(y_test, y_model_pred)\n"
   ]
  },
  {
   "cell_type": "code",
   "execution_count": 169,
   "metadata": {},
   "outputs": [
    {
     "name": "stdout",
     "output_type": "stream",
     "text": [
      "i is:1\n",
      "[0.         9.78856669]\n",
      "2.3708153823419096\n",
      "i is:2\n",
      "[ 0.         11.0939799  -0.11974635]\n",
      "-0.45714072170978426\n",
      "i is:3\n",
      "[ 0.         -2.56453398  2.92525889 -0.19571125]\n",
      "16.236042534105827\n",
      "i is:4\n",
      "[ 0.         -6.7314462   4.51330079 -0.42800156  0.01144349]\n",
      "19.57418979717042\n",
      "i is:5\n",
      "[ 0.00000000e+00  4.63129097e+01 -2.38166496e+01  6.13438597e+00\n",
      " -6.72561753e-01  2.63107236e-02]\n",
      "-12.887862218330724\n",
      "i is:6\n",
      "[ 0.00000000e+00 -2.03046560e+02  1.40647377e+02 -4.52628554e+01\n",
      "  7.58832690e+00 -6.33190056e-01  2.06993370e-02]\n",
      "120.13641338460769\n",
      "i is:7\n",
      "[ 0.00000000e+00 -9.57573096e+02  7.35095123e+02 -2.81186080e+02\n",
      "  5.95914825e+01 -7.08633871e+00  4.42283356e-01 -1.12724636e-02]\n",
      "478.50568695903434\n",
      "i is:8\n",
      "[ 0.00000000e+00 -3.15562829e+02  1.57183689e+02 -8.02053756e+00\n",
      " -1.58173186e+01  5.50299961e+00 -8.09256298e-01  5.69016642e-02\n",
      " -1.56602069e-03]\n",
      "200.19224671456954\n",
      "i is:9\n",
      "[ 0.00000000e+00 -1.85206464e+04  1.84724894e+04 -9.99574882e+03\n",
      "  3.28412590e+03 -6.86006609e+02  9.17233376e+01 -7.60757670e+00\n",
      "  3.56533137e-01 -7.21580034e-03]\n",
      "7490.470488623702\n",
      "i is:10\n",
      "[ 0.00000000e+00  1.44018416e+04 -1.88482235e+04  1.35407713e+04\n",
      " -5.96139680e+03  1.69482396e+03 -3.17459369e+02  3.89297780e+01\n",
      " -3.00697892e+00  1.32693081e-01 -2.54987201e-03]\n",
      "-4550.215085874558\n",
      "i is:11\n",
      "[ 0.00000000e+00 -3.13204428e+04  3.86341348e+04 -2.74285338e+04\n",
      "  1.25925939e+04 -3.94496079e+03  8.61976652e+02 -1.31387027e+02\n",
      "  1.36873687e+01 -9.27950540e-01  3.68511239e-02 -6.49682213e-04]\n",
      "10847.916719006127\n",
      "i is:12\n",
      "[ 0.00000000e+00 -6.73967492e+03  1.50333684e+03  4.80057292e+03\n",
      " -5.39930904e+03  2.88920040e+03 -9.55827237e+02  2.10863027e+02\n",
      " -3.17124022e+01  3.22091197e+00 -2.11676777e-01  8.13148923e-03\n",
      " -1.38672973e-04]\n",
      "3817.385672000456\n",
      "i is:13\n",
      "[ 0.00000000e+00 -1.40250759e+03 -8.17028897e+02  9.06541752e+02\n",
      "  7.31114499e+02 -1.28321121e+03  7.74508386e+02 -2.68765669e+02\n",
      "  6.02273106e+01 -9.03942118e+00  9.06546067e-01 -5.84439531e-02\n",
      "  2.19371696e-03 -3.64750697e-05]\n",
      "1379.8791669646607\n",
      "i is:14\n",
      "[ 0.00000000e+00 -2.39608893e+02 -3.10697119e+02 -6.42389082e+01\n",
      "  2.54437831e+02  1.12472190e+02 -3.00388943e+02  1.97267378e+02\n",
      " -7.08583678e+01  1.61005866e+01 -2.42291245e+00  2.41957245e-01\n",
      " -1.54630737e-02  5.73666254e-04 -9.40926199e-06]\n",
      "455.8111494744525\n"
     ]
    },
    {
     "data": {
      "image/png": "[encoded data removed]",
      "text/plain": [
       "<Figure size 432x288 with 1 Axes>"
      ]
     },
     "metadata": {
      "needs_background": "light"
     },
     "output_type": "display_data"
    }
   ],
   "source": [
    "MAES = []\n",
    "MSES = []\n",
    "for i in range(1, 15):\n",
    "    print(\"i is:\" + str(i))\n",
    "    y_t = polynomial_model(degrees = i)\n",
    "    MAE = get_evaluation_MAE(y_t)\n",
    "    MSE = get_evaluation_MSE(y_t)\n",
    "    MAES.append(MAE)\n",
    "    MSES.append(MSE)\n",
    "plt.plot(np.arange(1, 15), MAES, color = 'blue', label='MAES')\n",
    "plt.plot(np.arange(1, 15), MSES, color='red', label='MSES')\n",
    "plt.xlabel('degrees')\n",
    "plt.ylabel('errors')\n",
    "plt.legend()\n",
    "plt.show()"
   ]
  },
  {
   "cell_type": "markdown",
   "metadata": {},
   "source": [
    "### Conclusion \n",
    "We saw that with less data linear regression model performs better than polynomial regression and hence is a better choice. \n",
    "\n",
    "If we have abundance of data, we can choose the best degree looking at the graph above to get best results."
   ]
  }
 ],
 "metadata": {
  "kernelspec": {
   "display_name": "Python 3",
   "language": "python",
   "name": "python3"
  },
  "language_info": {
   "codemirror_mode": {
    "name": "ipython",
    "version": 3
   },
   "file_extension": ".py",
   "mimetype": "text/x-python",
   "name": "python",
   "nbconvert_exporter": "python",
   "pygments_lexer": "ipython3",
   "version": "3.8.4"
  }
 },
 "nbformat": 4,
 "nbformat_minor": 4
}
